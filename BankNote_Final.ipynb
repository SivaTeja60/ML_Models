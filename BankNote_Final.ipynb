{
  "nbformat": 4,
  "nbformat_minor": 0,
  "metadata": {
    "colab": {
      "name": "Rs_BankNote_Final.ipynb",
      "provenance": [],
      "include_colab_link": true
    },
    "kernelspec": {
      "name": "python3",
      "display_name": "Python 3"
    }
  },
  "cells": [
    {
      "cell_type": "markdown",
      "metadata": {
        "id": "view-in-github",
        "colab_type": "text"
      },
      "source": [
        "<a href=\"https://colab.research.google.com/github/SivaTeja60/ML_Models/blob/master/BankNote_Final.ipynb\" target=\"_parent\"><img src=\"https://colab.research.google.com/assets/colab-badge.svg\" alt=\"Open In Colab\"/></a>"
      ]
    },
    {
      "cell_type": "code",
      "metadata": {
        "id": "OtsIJ6Zgrxu3"
      },
      "source": [
        "#Importing required libraries\n",
        "import numpy as np  # for matrix operations\n",
        "import pandas as pd  # for loading CSV Files\n",
        "import matplotlib.pyplot as plt # for Data Visualization"
      ],
      "execution_count": 1,
      "outputs": []
    },
    {
      "cell_type": "code",
      "metadata": {
        "id": "TjvKVZWNr6Vn"
      },
      "source": [
        "#Loading Data\n",
        "bank_note_data = pd.read_csv(\"https://raw.githubusercontent.com/dphi-official/Datasets/master/bank_note_data/training_set_label.csv\" )"
      ],
      "execution_count": 2,
      "outputs": []
    },
    {
      "cell_type": "code",
      "metadata": {
        "id": "67bpqkj2sA9Z",
        "colab": {
          "base_uri": "https://localhost:8080/",
          "height": 202
        },
        "outputId": "56dcd524-3b1d-4902-bdf6-cd1c162344b7"
      },
      "source": [
        "#Viewing the data\n",
        "bank_note_data.head()"
      ],
      "execution_count": 3,
      "outputs": [
        {
          "output_type": "execute_result",
          "data": {
            "text/html": [
              "<div>\n",
              "<style scoped>\n",
              "    .dataframe tbody tr th:only-of-type {\n",
              "        vertical-align: middle;\n",
              "    }\n",
              "\n",
              "    .dataframe tbody tr th {\n",
              "        vertical-align: top;\n",
              "    }\n",
              "\n",
              "    .dataframe thead th {\n",
              "        text-align: right;\n",
              "    }\n",
              "</style>\n",
              "<table border=\"1\" class=\"dataframe\">\n",
              "  <thead>\n",
              "    <tr style=\"text-align: right;\">\n",
              "      <th></th>\n",
              "      <th>VWTI</th>\n",
              "      <th>SWTI</th>\n",
              "      <th>CWTI</th>\n",
              "      <th>EI</th>\n",
              "      <th>Class</th>\n",
              "    </tr>\n",
              "  </thead>\n",
              "  <tbody>\n",
              "    <tr>\n",
              "      <th>0</th>\n",
              "      <td>2.2634</td>\n",
              "      <td>-4.4862</td>\n",
              "      <td>3.6558</td>\n",
              "      <td>-0.612510</td>\n",
              "      <td>0</td>\n",
              "    </tr>\n",
              "    <tr>\n",
              "      <th>1</th>\n",
              "      <td>3.2718</td>\n",
              "      <td>1.7837</td>\n",
              "      <td>2.1161</td>\n",
              "      <td>0.613340</td>\n",
              "      <td>0</td>\n",
              "    </tr>\n",
              "    <tr>\n",
              "      <th>2</th>\n",
              "      <td>-3.9411</td>\n",
              "      <td>-12.8792</td>\n",
              "      <td>13.0597</td>\n",
              "      <td>-3.312500</td>\n",
              "      <td>1</td>\n",
              "    </tr>\n",
              "    <tr>\n",
              "      <th>3</th>\n",
              "      <td>0.5195</td>\n",
              "      <td>-3.2633</td>\n",
              "      <td>3.0895</td>\n",
              "      <td>-0.984900</td>\n",
              "      <td>0</td>\n",
              "    </tr>\n",
              "    <tr>\n",
              "      <th>4</th>\n",
              "      <td>2.5698</td>\n",
              "      <td>-4.4076</td>\n",
              "      <td>5.9856</td>\n",
              "      <td>0.078002</td>\n",
              "      <td>0</td>\n",
              "    </tr>\n",
              "  </tbody>\n",
              "</table>\n",
              "</div>"
            ],
            "text/plain": [
              "     VWTI     SWTI     CWTI        EI  Class\n",
              "0  2.2634  -4.4862   3.6558 -0.612510      0\n",
              "1  3.2718   1.7837   2.1161  0.613340      0\n",
              "2 -3.9411 -12.8792  13.0597 -3.312500      1\n",
              "3  0.5195  -3.2633   3.0895 -0.984900      0\n",
              "4  2.5698  -4.4076   5.9856  0.078002      0"
            ]
          },
          "metadata": {
            "tags": []
          },
          "execution_count": 3
        }
      ]
    },
    {
      "cell_type": "code",
      "metadata": {
        "id": "37c2MorGsHKw"
      },
      "source": [
        "#Getting input and output variables\n",
        "X = bank_note_data.drop('Class', axis=1) #Input variables\n",
        "y = bank_note_data['Class']  # Target variable"
      ],
      "execution_count": 4,
      "outputs": []
    },
    {
      "cell_type": "code",
      "metadata": {
        "id": "SZ1hfkHdsLh7"
      },
      "source": [
        "#Splitting train and test data\n",
        "from sklearn.model_selection import train_test_split\n",
        "X_train, X_test, y_train, y_test = train_test_split(X, y, test_size=0.3, random_state=9)"
      ],
      "execution_count": 5,
      "outputs": []
    },
    {
      "cell_type": "code",
      "metadata": {
        "id": "7xscxFJRsPN4"
      },
      "source": [
        "#importing libraries for model building\n",
        "import tensorflow as tf  # Importing the TensorFlow Library\n",
        "from tensorflow import keras  # Import Keras from TensorFlow\n",
        "\n",
        "from tensorflow.keras import Sequential, layers\n",
        "from tensorflow.keras.layers import Dense, Dropout"
      ],
      "execution_count": 6,
      "outputs": []
    },
    {
      "cell_type": "code",
      "metadata": {
        "id": "GfqbhmYFsV_F"
      },
      "source": [
        "#Building model\n",
        "model = Sequential()\n",
        "model.add(Dense(32, activation='relu', input_shape=(X_train.shape[1],)))\n",
        "model.add(Dense(16, activation='relu'))\n",
        "model.add(Dropout(0.2))\n",
        "model.add(Dense(8, activation='relu'))\n",
        "model.add(Dense(1, activation='sigmoid'))  "
      ],
      "execution_count": 7,
      "outputs": []
    },
    {
      "cell_type": "code",
      "metadata": {
        "id": "eMBeMN3asdcz"
      },
      "source": [
        "# Compiling the model\n",
        "from tensorflow.keras.optimizers import RMSprop, Adam\n",
        "optimizer = RMSprop(0.1)\n",
        "model.compile(loss='binary_crossentropy', optimizer= optimizer , metrics=['accuracy'])"
      ],
      "execution_count": 8,
      "outputs": []
    },
    {
      "cell_type": "code",
      "metadata": {
        "id": "6hHi5BRNsi6n",
        "colab": {
          "base_uri": "https://localhost:8080/"
        },
        "outputId": "f056c048-c384-4fbd-c81d-ab844ccaf369"
      },
      "source": [
        "history = model.fit(X_train, y_train, validation_split=0.2, epochs=100, batch_size=10, verbose=1)"
      ],
      "execution_count": 9,
      "outputs": [
        {
          "output_type": "stream",
          "text": [
            "Epoch 1/100\n",
            "62/62 [==============================] - 1s 9ms/step - loss: 0.6800 - accuracy: 0.7977 - val_loss: 1.0375 - val_accuracy: 0.8831\n",
            "Epoch 2/100\n",
            "62/62 [==============================] - 0s 2ms/step - loss: 0.1749 - accuracy: 0.9557 - val_loss: 0.0357 - val_accuracy: 0.9935\n",
            "Epoch 3/100\n",
            "62/62 [==============================] - 0s 2ms/step - loss: 0.1068 - accuracy: 0.9838 - val_loss: 0.0022 - val_accuracy: 1.0000\n",
            "Epoch 4/100\n",
            "62/62 [==============================] - 0s 2ms/step - loss: 0.0264 - accuracy: 0.9933 - val_loss: 0.0031 - val_accuracy: 1.0000\n",
            "Epoch 5/100\n",
            "62/62 [==============================] - 0s 2ms/step - loss: 0.0567 - accuracy: 0.9744 - val_loss: 1.5582e-04 - val_accuracy: 1.0000\n",
            "Epoch 6/100\n",
            "62/62 [==============================] - 0s 2ms/step - loss: 0.0819 - accuracy: 0.9786 - val_loss: 0.0023 - val_accuracy: 1.0000\n",
            "Epoch 7/100\n",
            "62/62 [==============================] - 0s 2ms/step - loss: 0.0182 - accuracy: 0.9878 - val_loss: 2.1607e-05 - val_accuracy: 1.0000\n",
            "Epoch 8/100\n",
            "62/62 [==============================] - 0s 2ms/step - loss: 0.1297 - accuracy: 0.9768 - val_loss: 0.0012 - val_accuracy: 1.0000\n",
            "Epoch 9/100\n",
            "62/62 [==============================] - 0s 2ms/step - loss: 0.0168 - accuracy: 0.9849 - val_loss: 3.5004e-05 - val_accuracy: 1.0000\n",
            "Epoch 10/100\n",
            "62/62 [==============================] - 0s 2ms/step - loss: 0.0088 - accuracy: 0.9921 - val_loss: 1.0336e-06 - val_accuracy: 1.0000\n",
            "Epoch 11/100\n",
            "62/62 [==============================] - 0s 2ms/step - loss: 0.1908 - accuracy: 0.9865 - val_loss: 8.9595e-05 - val_accuracy: 1.0000\n",
            "Epoch 12/100\n",
            "62/62 [==============================] - 0s 2ms/step - loss: 0.0811 - accuracy: 0.9855 - val_loss: 0.7044 - val_accuracy: 0.4610\n",
            "Epoch 13/100\n",
            "62/62 [==============================] - 0s 2ms/step - loss: 0.3676 - accuracy: 0.7576 - val_loss: 0.0320 - val_accuracy: 1.0000\n",
            "Epoch 14/100\n",
            "62/62 [==============================] - 0s 2ms/step - loss: 0.0258 - accuracy: 0.9990 - val_loss: 0.0050 - val_accuracy: 1.0000\n",
            "Epoch 15/100\n",
            "62/62 [==============================] - 0s 2ms/step - loss: 0.0728 - accuracy: 0.9833 - val_loss: 8.0690e-05 - val_accuracy: 1.0000\n",
            "Epoch 16/100\n",
            "62/62 [==============================] - 0s 2ms/step - loss: 0.0371 - accuracy: 0.9912 - val_loss: 4.1556e-06 - val_accuracy: 1.0000\n",
            "Epoch 17/100\n",
            "62/62 [==============================] - 0s 2ms/step - loss: 0.2468 - accuracy: 0.9762 - val_loss: 2.3234e-05 - val_accuracy: 1.0000\n",
            "Epoch 18/100\n",
            "62/62 [==============================] - 0s 2ms/step - loss: 0.2711 - accuracy: 0.9644 - val_loss: 0.0157 - val_accuracy: 1.0000\n",
            "Epoch 19/100\n",
            "62/62 [==============================] - 0s 2ms/step - loss: 0.0087 - accuracy: 0.9968 - val_loss: 1.2998e-05 - val_accuracy: 1.0000\n",
            "Epoch 20/100\n",
            "62/62 [==============================] - 0s 2ms/step - loss: 0.0196 - accuracy: 0.9959 - val_loss: 8.9876e-07 - val_accuracy: 1.0000\n",
            "Epoch 21/100\n",
            "62/62 [==============================] - 0s 2ms/step - loss: 0.3154 - accuracy: 0.9570 - val_loss: 6.1144e-04 - val_accuracy: 1.0000\n",
            "Epoch 22/100\n",
            "62/62 [==============================] - 0s 2ms/step - loss: 0.0210 - accuracy: 0.9896 - val_loss: 1.7625e-05 - val_accuracy: 1.0000\n",
            "Epoch 23/100\n",
            "62/62 [==============================] - 0s 2ms/step - loss: 0.1667 - accuracy: 0.9866 - val_loss: 0.0011 - val_accuracy: 1.0000\n",
            "Epoch 24/100\n",
            "62/62 [==============================] - 0s 2ms/step - loss: 0.1915 - accuracy: 0.9860 - val_loss: 7.7966e-04 - val_accuracy: 1.0000\n",
            "Epoch 25/100\n",
            "62/62 [==============================] - 0s 2ms/step - loss: 0.0154 - accuracy: 0.9967 - val_loss: 5.2427e-06 - val_accuracy: 1.0000\n",
            "Epoch 26/100\n",
            "62/62 [==============================] - 0s 2ms/step - loss: 0.0154 - accuracy: 0.9939 - val_loss: 4.4773e-12 - val_accuracy: 1.0000\n",
            "Epoch 27/100\n",
            "62/62 [==============================] - 0s 2ms/step - loss: 0.0013 - accuracy: 0.9999 - val_loss: 9.4253e-12 - val_accuracy: 1.0000\n",
            "Epoch 28/100\n",
            "62/62 [==============================] - 0s 2ms/step - loss: 0.0165 - accuracy: 0.9907 - val_loss: 4.6339e-09 - val_accuracy: 1.0000\n",
            "Epoch 29/100\n",
            "62/62 [==============================] - 0s 2ms/step - loss: 0.1443 - accuracy: 0.9936 - val_loss: 6.3013e-11 - val_accuracy: 1.0000\n",
            "Epoch 30/100\n",
            "62/62 [==============================] - 0s 2ms/step - loss: 0.0032 - accuracy: 0.9978 - val_loss: 9.9189e-12 - val_accuracy: 1.0000\n",
            "Epoch 31/100\n",
            "62/62 [==============================] - 0s 2ms/step - loss: 0.1274 - accuracy: 0.9926 - val_loss: 1.4695e-06 - val_accuracy: 1.0000\n",
            "Epoch 32/100\n",
            "62/62 [==============================] - 0s 2ms/step - loss: 0.0036 - accuracy: 0.9983 - val_loss: 5.1992e-07 - val_accuracy: 1.0000\n",
            "Epoch 33/100\n",
            "62/62 [==============================] - 0s 2ms/step - loss: 0.0137 - accuracy: 0.9963 - val_loss: 0.0104 - val_accuracy: 1.0000\n",
            "Epoch 34/100\n",
            "62/62 [==============================] - 0s 2ms/step - loss: 0.4707 - accuracy: 0.9609 - val_loss: 2.0219e-05 - val_accuracy: 1.0000\n",
            "Epoch 35/100\n",
            "62/62 [==============================] - 0s 2ms/step - loss: 0.0158 - accuracy: 0.9920 - val_loss: 7.3550e-05 - val_accuracy: 1.0000\n",
            "Epoch 36/100\n",
            "62/62 [==============================] - 0s 2ms/step - loss: 0.0249 - accuracy: 0.9938 - val_loss: 7.6162e-21 - val_accuracy: 1.0000\n",
            "Epoch 37/100\n",
            "62/62 [==============================] - 0s 2ms/step - loss: 1.3611 - accuracy: 0.9748 - val_loss: 4.6012e-05 - val_accuracy: 1.0000\n",
            "Epoch 38/100\n",
            "62/62 [==============================] - 0s 2ms/step - loss: 0.4332 - accuracy: 0.9677 - val_loss: 0.0171 - val_accuracy: 1.0000\n",
            "Epoch 39/100\n",
            "62/62 [==============================] - 0s 2ms/step - loss: 0.0296 - accuracy: 0.9947 - val_loss: 1.6194e-05 - val_accuracy: 1.0000\n",
            "Epoch 40/100\n",
            "62/62 [==============================] - 0s 2ms/step - loss: 0.0599 - accuracy: 0.9808 - val_loss: 2.4318e-10 - val_accuracy: 1.0000\n",
            "Epoch 41/100\n",
            "62/62 [==============================] - 0s 2ms/step - loss: 0.0114 - accuracy: 0.9953 - val_loss: 4.1021e-10 - val_accuracy: 1.0000\n",
            "Epoch 42/100\n",
            "62/62 [==============================] - 0s 2ms/step - loss: 0.0068 - accuracy: 0.9951 - val_loss: 3.3622e-05 - val_accuracy: 1.0000\n",
            "Epoch 43/100\n",
            "62/62 [==============================] - 0s 2ms/step - loss: 0.0177 - accuracy: 0.9986 - val_loss: 0.0061 - val_accuracy: 0.9935\n",
            "Epoch 44/100\n",
            "62/62 [==============================] - 0s 2ms/step - loss: 0.0697 - accuracy: 0.9894 - val_loss: 0.0293 - val_accuracy: 0.9935\n",
            "Epoch 45/100\n",
            "62/62 [==============================] - 0s 2ms/step - loss: 0.2875 - accuracy: 0.9895 - val_loss: 0.1025 - val_accuracy: 0.9805\n",
            "Epoch 46/100\n",
            "62/62 [==============================] - 0s 2ms/step - loss: 0.3435 - accuracy: 0.8088 - val_loss: 0.0034 - val_accuracy: 1.0000\n",
            "Epoch 47/100\n",
            "62/62 [==============================] - 0s 2ms/step - loss: 0.0227 - accuracy: 0.9939 - val_loss: 1.3456e-06 - val_accuracy: 1.0000\n",
            "Epoch 48/100\n",
            "62/62 [==============================] - 0s 2ms/step - loss: 0.1901 - accuracy: 0.9953 - val_loss: 3.7002e-05 - val_accuracy: 1.0000\n",
            "Epoch 49/100\n",
            "62/62 [==============================] - 0s 2ms/step - loss: 0.0150 - accuracy: 0.9965 - val_loss: 0.2305 - val_accuracy: 0.9740\n",
            "Epoch 50/100\n",
            "62/62 [==============================] - 0s 2ms/step - loss: 0.4343 - accuracy: 0.9945 - val_loss: 2.2490e-08 - val_accuracy: 1.0000\n",
            "Epoch 51/100\n",
            "62/62 [==============================] - 0s 2ms/step - loss: 0.0365 - accuracy: 0.9898 - val_loss: 9.9783e-22 - val_accuracy: 1.0000\n",
            "Epoch 52/100\n",
            "62/62 [==============================] - 0s 2ms/step - loss: 0.0157 - accuracy: 0.9933 - val_loss: 7.0580e-16 - val_accuracy: 1.0000\n",
            "Epoch 53/100\n",
            "62/62 [==============================] - 0s 2ms/step - loss: 0.2290 - accuracy: 0.9921 - val_loss: 0.0021 - val_accuracy: 1.0000\n",
            "Epoch 54/100\n",
            "62/62 [==============================] - 0s 2ms/step - loss: 0.0073 - accuracy: 0.9959 - val_loss: 4.2141e-05 - val_accuracy: 1.0000\n",
            "Epoch 55/100\n",
            "62/62 [==============================] - 0s 2ms/step - loss: 0.0537 - accuracy: 0.9962 - val_loss: 3.9874e-05 - val_accuracy: 1.0000\n",
            "Epoch 56/100\n",
            "62/62 [==============================] - 0s 2ms/step - loss: 0.0868 - accuracy: 0.9873 - val_loss: 0.3115 - val_accuracy: 0.9740\n",
            "Epoch 57/100\n",
            "62/62 [==============================] - 0s 2ms/step - loss: 0.8759 - accuracy: 0.9799 - val_loss: 1.7685e-04 - val_accuracy: 1.0000\n",
            "Epoch 58/100\n",
            "62/62 [==============================] - 0s 2ms/step - loss: 0.1165 - accuracy: 0.9864 - val_loss: 0.0059 - val_accuracy: 1.0000\n",
            "Epoch 59/100\n",
            "62/62 [==============================] - 0s 2ms/step - loss: 0.0206 - accuracy: 0.9938 - val_loss: 0.0014 - val_accuracy: 1.0000\n",
            "Epoch 60/100\n",
            "62/62 [==============================] - 0s 2ms/step - loss: 0.0123 - accuracy: 0.9937 - val_loss: 2.7810e-05 - val_accuracy: 1.0000\n",
            "Epoch 61/100\n",
            "62/62 [==============================] - 0s 2ms/step - loss: 0.0202 - accuracy: 0.9854 - val_loss: 2.0111e-09 - val_accuracy: 1.0000\n",
            "Epoch 62/100\n",
            "62/62 [==============================] - 0s 2ms/step - loss: 0.1464 - accuracy: 0.9882 - val_loss: 0.0073 - val_accuracy: 1.0000\n",
            "Epoch 63/100\n",
            "62/62 [==============================] - 0s 2ms/step - loss: 0.0172 - accuracy: 0.9952 - val_loss: 3.3232e-06 - val_accuracy: 1.0000\n",
            "Epoch 64/100\n",
            "62/62 [==============================] - 0s 2ms/step - loss: 0.0039 - accuracy: 0.9984 - val_loss: 2.3290e-07 - val_accuracy: 1.0000\n",
            "Epoch 65/100\n",
            "62/62 [==============================] - 0s 2ms/step - loss: 0.0049 - accuracy: 0.9987 - val_loss: 0.0115 - val_accuracy: 0.9935\n",
            "Epoch 66/100\n",
            "62/62 [==============================] - 0s 2ms/step - loss: 0.3636 - accuracy: 0.9786 - val_loss: 13.3801 - val_accuracy: 0.4610\n",
            "Epoch 67/100\n",
            "62/62 [==============================] - 0s 2ms/step - loss: 2.9738 - accuracy: 0.9181 - val_loss: 8.9434e-05 - val_accuracy: 1.0000\n",
            "Epoch 68/100\n",
            "62/62 [==============================] - 0s 2ms/step - loss: 0.0112 - accuracy: 0.9935 - val_loss: 2.5192e-06 - val_accuracy: 1.0000\n",
            "Epoch 69/100\n",
            "62/62 [==============================] - 0s 2ms/step - loss: 0.0393 - accuracy: 0.9918 - val_loss: 0.0445 - val_accuracy: 1.0000\n",
            "Epoch 70/100\n",
            "62/62 [==============================] - 0s 2ms/step - loss: 0.0510 - accuracy: 0.9891 - val_loss: 0.0031 - val_accuracy: 1.0000\n",
            "Epoch 71/100\n",
            "62/62 [==============================] - 0s 2ms/step - loss: 0.6981 - accuracy: 0.9789 - val_loss: 0.0390 - val_accuracy: 0.9935\n",
            "Epoch 72/100\n",
            "62/62 [==============================] - 0s 2ms/step - loss: 0.0216 - accuracy: 0.9984 - val_loss: 1.3722e-06 - val_accuracy: 1.0000\n",
            "Epoch 73/100\n",
            "62/62 [==============================] - 0s 2ms/step - loss: 0.0130 - accuracy: 0.9966 - val_loss: 0.0062 - val_accuracy: 0.9935\n",
            "Epoch 74/100\n",
            "62/62 [==============================] - 0s 2ms/step - loss: 0.0174 - accuracy: 0.9951 - val_loss: 0.1178 - val_accuracy: 0.9805\n",
            "Epoch 75/100\n",
            "62/62 [==============================] - 0s 2ms/step - loss: 0.0182 - accuracy: 0.9939 - val_loss: 3.1823e-04 - val_accuracy: 1.0000\n",
            "Epoch 76/100\n",
            "62/62 [==============================] - 0s 2ms/step - loss: 0.0156 - accuracy: 0.9947 - val_loss: 5.5498e-11 - val_accuracy: 1.0000\n",
            "Epoch 77/100\n",
            "62/62 [==============================] - 0s 2ms/step - loss: 0.0032 - accuracy: 0.9994 - val_loss: 3.7307e-10 - val_accuracy: 1.0000\n",
            "Epoch 78/100\n",
            "62/62 [==============================] - 0s 2ms/step - loss: 0.0139 - accuracy: 0.9986 - val_loss: 0.1014 - val_accuracy: 0.9935\n",
            "Epoch 79/100\n",
            "62/62 [==============================] - 0s 2ms/step - loss: 0.0049 - accuracy: 0.9984 - val_loss: 0.0362 - val_accuracy: 0.9935\n",
            "Epoch 80/100\n",
            "62/62 [==============================] - 0s 2ms/step - loss: 0.0453 - accuracy: 0.9915 - val_loss: 0.1746 - val_accuracy: 0.9805\n",
            "Epoch 81/100\n",
            "62/62 [==============================] - 0s 2ms/step - loss: 0.0034 - accuracy: 0.9984 - val_loss: 0.1403 - val_accuracy: 0.9870\n",
            "Epoch 82/100\n",
            "62/62 [==============================] - 0s 2ms/step - loss: 0.0040 - accuracy: 0.9988 - val_loss: 0.1453 - val_accuracy: 0.9870\n",
            "Epoch 83/100\n",
            "62/62 [==============================] - 0s 2ms/step - loss: 0.0025 - accuracy: 0.9997 - val_loss: 0.0611 - val_accuracy: 0.9935\n",
            "Epoch 84/100\n",
            "62/62 [==============================] - 0s 2ms/step - loss: 0.0178 - accuracy: 0.9967 - val_loss: 2.4916e-16 - val_accuracy: 1.0000\n",
            "Epoch 85/100\n",
            "62/62 [==============================] - 0s 2ms/step - loss: 0.0020 - accuracy: 0.9998 - val_loss: 1.8535e-13 - val_accuracy: 1.0000\n",
            "Epoch 86/100\n",
            "62/62 [==============================] - 0s 2ms/step - loss: 0.0123 - accuracy: 0.9990 - val_loss: 3.3087e-14 - val_accuracy: 1.0000\n",
            "Epoch 87/100\n",
            "62/62 [==============================] - 0s 2ms/step - loss: 13.4535 - accuracy: 0.9392 - val_loss: 3.5268e-09 - val_accuracy: 1.0000\n",
            "Epoch 88/100\n",
            "62/62 [==============================] - 0s 2ms/step - loss: 0.0034 - accuracy: 0.9991 - val_loss: 2.4373e-09 - val_accuracy: 1.0000\n",
            "Epoch 89/100\n",
            "62/62 [==============================] - 0s 2ms/step - loss: 0.0061 - accuracy: 0.9981 - val_loss: 1.6938e-14 - val_accuracy: 1.0000\n",
            "Epoch 90/100\n",
            "62/62 [==============================] - 0s 2ms/step - loss: 0.0094 - accuracy: 0.9974 - val_loss: 8.1544e-16 - val_accuracy: 1.0000\n",
            "Epoch 91/100\n",
            "62/62 [==============================] - 0s 2ms/step - loss: 0.0258 - accuracy: 0.9915 - val_loss: 0.0173 - val_accuracy: 0.9935\n",
            "Epoch 92/100\n",
            "62/62 [==============================] - 0s 2ms/step - loss: 0.0420 - accuracy: 0.9918 - val_loss: 9.7231e-11 - val_accuracy: 1.0000\n",
            "Epoch 93/100\n",
            "62/62 [==============================] - 0s 2ms/step - loss: 0.0067 - accuracy: 0.9961 - val_loss: 1.2254e-10 - val_accuracy: 1.0000\n",
            "Epoch 94/100\n",
            "62/62 [==============================] - 0s 2ms/step - loss: 0.0138 - accuracy: 0.9932 - val_loss: 9.3316e-19 - val_accuracy: 1.0000\n",
            "Epoch 95/100\n",
            "62/62 [==============================] - 0s 2ms/step - loss: 0.0041 - accuracy: 0.9994 - val_loss: 1.2985e-18 - val_accuracy: 1.0000\n",
            "Epoch 96/100\n",
            "62/62 [==============================] - 0s 2ms/step - loss: 0.0038 - accuracy: 0.9997 - val_loss: 1.6638e-18 - val_accuracy: 1.0000\n",
            "Epoch 97/100\n",
            "62/62 [==============================] - 0s 2ms/step - loss: 0.0089 - accuracy: 0.9939 - val_loss: 1.0945e-18 - val_accuracy: 1.0000\n",
            "Epoch 98/100\n",
            "62/62 [==============================] - 0s 2ms/step - loss: 0.0031 - accuracy: 0.9977 - val_loss: 6.1784e-19 - val_accuracy: 1.0000\n",
            "Epoch 99/100\n",
            "62/62 [==============================] - 0s 2ms/step - loss: 0.0101 - accuracy: 0.9894 - val_loss: 7.8190e-19 - val_accuracy: 1.0000\n",
            "Epoch 100/100\n",
            "62/62 [==============================] - 0s 2ms/step - loss: 0.0050 - accuracy: 0.9980 - val_loss: 1.2121e-18 - val_accuracy: 1.0000\n"
          ],
          "name": "stdout"
        }
      ]
    },
    {
      "cell_type": "code",
      "metadata": {
        "id": "43c13v4Ossl6",
        "colab": {
          "base_uri": "https://localhost:8080/"
        },
        "outputId": "a0988484-092c-4933-9195-2ac2103f2e7a"
      },
      "source": [
        "#Model Evaluation\n",
        "model.evaluate(X_test, y_test)"
      ],
      "execution_count": 10,
      "outputs": [
        {
          "output_type": "stream",
          "text": [
            "11/11 [==============================] - 0s 1ms/step - loss: 3.8965e-20 - accuracy: 1.0000\n"
          ],
          "name": "stdout"
        },
        {
          "output_type": "execute_result",
          "data": {
            "text/plain": [
              "[3.8965018069732336e-20, 1.0]"
            ]
          },
          "metadata": {
            "tags": []
          },
          "execution_count": 10
        }
      ]
    },
    {
      "cell_type": "code",
      "metadata": {
        "id": "Kdseupn9syz6"
      },
      "source": [
        "#Load Test Data\n",
        "new_test_data = pd.read_csv('https://raw.githubusercontent.com/dphi-official/Datasets/master/bank_note_data/testing_set_label.csv')"
      ],
      "execution_count": 11,
      "outputs": []
    },
    {
      "cell_type": "code",
      "metadata": {
        "id": "bGXsBpqks3kq"
      },
      "source": [
        "predictions = model.predict(new_test_data)"
      ],
      "execution_count": 12,
      "outputs": []
    },
    {
      "cell_type": "code",
      "metadata": {
        "id": "3Kh8g-aZs6_O",
        "colab": {
          "base_uri": "https://localhost:8080/",
          "height": 17
        },
        "outputId": "8693d1c4-96c5-4ff9-b874-d83bd882261a"
      },
      "source": [
        "# To create Dataframe of predicted value with particular respective index\n",
        "res = pd.DataFrame(predictions) #preditcions are nothing but the final predictions of your model on input features of your new unseen test data\n",
        "res.index = new_test_data.index # its important for comparison. Here \"test_new\" is your new test dataset\n",
        "res.columns = [\"prediction\"]\n",
        "\n",
        "# To download the csv file locally\n",
        "from google.colab import files\n",
        "res.to_csv('prediction_results.csv')         \n",
        "files.download('prediction_results.csv')"
      ],
      "execution_count": 13,
      "outputs": [
        {
          "output_type": "display_data",
          "data": {
            "application/javascript": [
              "\n",
              "    async function download(id, filename, size) {\n",
              "      if (!google.colab.kernel.accessAllowed) {\n",
              "        return;\n",
              "      }\n",
              "      const div = document.createElement('div');\n",
              "      const label = document.createElement('label');\n",
              "      label.textContent = `Downloading \"${filename}\": `;\n",
              "      div.appendChild(label);\n",
              "      const progress = document.createElement('progress');\n",
              "      progress.max = size;\n",
              "      div.appendChild(progress);\n",
              "      document.body.appendChild(div);\n",
              "\n",
              "      const buffers = [];\n",
              "      let downloaded = 0;\n",
              "\n",
              "      const channel = await google.colab.kernel.comms.open(id);\n",
              "      // Send a message to notify the kernel that we're ready.\n",
              "      channel.send({})\n",
              "\n",
              "      for await (const message of channel.messages) {\n",
              "        // Send a message to notify the kernel that we're ready.\n",
              "        channel.send({})\n",
              "        if (message.buffers) {\n",
              "          for (const buffer of message.buffers) {\n",
              "            buffers.push(buffer);\n",
              "            downloaded += buffer.byteLength;\n",
              "            progress.value = downloaded;\n",
              "          }\n",
              "        }\n",
              "      }\n",
              "      const blob = new Blob(buffers, {type: 'application/binary'});\n",
              "      const a = document.createElement('a');\n",
              "      a.href = window.URL.createObjectURL(blob);\n",
              "      a.download = filename;\n",
              "      div.appendChild(a);\n",
              "      a.click();\n",
              "      div.remove();\n",
              "    }\n",
              "  "
            ],
            "text/plain": [
              "<IPython.core.display.Javascript object>"
            ]
          },
          "metadata": {
            "tags": []
          }
        },
        {
          "output_type": "display_data",
          "data": {
            "application/javascript": [
              "download(\"download_98478862-844a-4fae-a60d-958f316ad726\", \"Rs_prediction_results.csv\", 2191)"
            ],
            "text/plain": [
              "<IPython.core.display.Javascript object>"
            ]
          },
          "metadata": {
            "tags": []
          }
        }
      ]
    },
    {
      "cell_type": "code",
      "metadata": {
        "id": "bRul7yf7uzo3"
      },
      "source": [
        ""
      ],
      "execution_count": null,
      "outputs": []
    }
  ]
}